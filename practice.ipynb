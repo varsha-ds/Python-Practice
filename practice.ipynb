{
 "cells": [
  {
   "cell_type": "code",
   "execution_count": 2,
   "id": "1348967b",
   "metadata": {},
   "outputs": [
    {
     "name": "stdout",
     "output_type": "stream",
     "text": [
      "Enter the first number for addition: 3\n",
      "Enter the secind number for addition: 22\n",
      "sum: 3.0 + 22.0 = 25.0\n"
     ]
    }
   ],
   "source": [
    "#addition\n",
    "num1 = float(input(\"Enter the first number for addition: \"))\n",
    "num2 = float(input(\"Enter the secind number for addition: \"))\n",
    "sum_res = num1 + num2\n",
    "print(f\"sum: {num1} + {num2} = {sum_res}\")"
   ]
  },
  {
   "cell_type": "code",
   "execution_count": 5,
   "id": "78723117",
   "metadata": {},
   "outputs": [
    {
     "name": "stdout",
     "output_type": "stream",
     "text": [
      "Enter the dividend for the division: 55\n",
      "Enter the divisor for the division: 4\n",
      "Division: 55.0/4.0 = 13.75\n"
     ]
    }
   ],
   "source": [
    "#Division\n",
    "num3 = float(input(\"Enter the dividend for the division: \"))\n",
    "num4 = float(input(\"Enter the divisor for the division: \"))\n",
    "if num4 == 0:\n",
    "    print(\"Error: Division by zero is not allowed\")\n",
    "else:\n",
    "    division = num3/num4\n",
    "    print(f\"Division: {num3}/{num4} = {division}\")"
   ]
  },
  {
   "cell_type": "code",
   "execution_count": 6,
   "id": "23d5fcc1",
   "metadata": {},
   "outputs": [
    {
     "name": "stdout",
     "output_type": "stream",
     "text": [
      "Enter the length of the base of the triangle: 4\n",
      "Enter the height of the triangle: 6\n",
      "Area of triangle is: 12.0\n"
     ]
    }
   ],
   "source": [
    "#program to find the area of the triangle\n",
    "base = float(input(\"Enter the length of the base of the triangle: \"))\n",
    "height = float(input(\"Enter the height of the triangle: \"))\n",
    "area = 0.5 * base * height\n",
    "print(f\"Area of triangle is: {area}\")"
   ]
  },
  {
   "cell_type": "code",
   "execution_count": 9,
   "id": "25c3e7e9",
   "metadata": {},
   "outputs": [
    {
     "name": "stdout",
     "output_type": "stream",
     "text": [
      "Enter the first value: 5\n",
      "Enter the second value: 4\n",
      "Original values: a = 5, b = 4\n",
      "Swapped values: a = 4, b = 5\n"
     ]
    }
   ],
   "source": [
    "#Swap 2 variables\n",
    "a = input(\"Enter the first value: \")\n",
    "b = input(\"Enter the second value: \")\n",
    "print(f\"Original values: a = {a}, b = {b}\")\n",
    "temp = a \n",
    "a = b\n",
    "b = temp\n",
    "print(f\"Swapped values: a = {a}, b = {b}\")"
   ]
  },
  {
   "cell_type": "code",
   "execution_count": 11,
   "id": "52c28a90",
   "metadata": {},
   "outputs": [
    {
     "name": "stdout",
     "output_type": "stream",
     "text": [
      "Random number: 52\n"
     ]
    }
   ],
   "source": [
    "#program to generate a random number\n",
    "import random\n",
    "print(f\"Random number: {random.randint(1,100)}\")"
   ]
  },
  {
   "cell_type": "code",
   "execution_count": 17,
   "id": "f36465d7",
   "metadata": {},
   "outputs": [
    {
     "name": "stdout",
     "output_type": "stream",
     "text": [
      "Enter distance in kilometeres: 1.6\n",
      "1.6 kilometers is equal to 0.9941936 miles\n"
     ]
    }
   ],
   "source": [
    "#Program to convert kilometers to miles\n",
    "kilometers = float(input(\"Enter distance in kilometeres: \"))\n",
    "conversion_factor = 0.621371 #1km = 0.621371\n",
    "miles = kilometers * conversion_factor\n",
    "print(f\"{kilometers} kilometers is equal to {miles} miles\")"
   ]
  },
  {
   "cell_type": "code",
   "execution_count": 16,
   "id": "e4627b88",
   "metadata": {},
   "outputs": [
    {
     "name": "stdout",
     "output_type": "stream",
     "text": [
      "Enter distance in miles: 1\n",
      "1.0 miles is equal to 1.6093444978925633 kilometers\n"
     ]
    }
   ],
   "source": [
    "#program to convert miles to kilometers\n",
    "miles = float(input(\"Enter distance in miles: \"))\n",
    "conversion_factor = 0.621371\n",
    "kilometers = miles/conversion_factor\n",
    "print(f\"{miles} miles is equal to {kilometers} kilometers\")\n"
   ]
  },
  {
   "cell_type": "code",
   "execution_count": 18,
   "id": "2725f6e9",
   "metadata": {},
   "outputs": [
    {
     "name": "stdout",
     "output_type": "stream",
     "text": [
      "Enter the temperature in celsius: 33\n",
      "33.0 celsius is equal to 91.4 Farenheit\n"
     ]
    }
   ],
   "source": [
    "#convert celsius to farenheit\n",
    "celsius = float(input(\"Enter the temperature in celsius: \"))\n",
    "farenheit = (celsius * 9/5) + 32\n",
    "print(f\"{celsius} celsius is equal to {farenheit} Farenheit\")"
   ]
  },
  {
   "cell_type": "code",
   "execution_count": 20,
   "id": "3bff39a1",
   "metadata": {},
   "outputs": [
    {
     "name": "stdout",
     "output_type": "stream",
     "text": [
      "Enter year: 2024\n",
      "Enter Month: 05\n",
      "      May 2024\n",
      "Mo Tu We Th Fr Sa Su\n",
      "       1  2  3  4  5\n",
      " 6  7  8  9 10 11 12\n",
      "13 14 15 16 17 18 19\n",
      "20 21 22 23 24 25 26\n",
      "27 28 29 30 31\n",
      "\n"
     ]
    }
   ],
   "source": [
    "#program to display calendar\n",
    "import calendar\n",
    "year = int(input(\"Enter year: \"))\n",
    "month = int(input(\"Enter Month: \"))\n",
    "cal = calendar.month(year,month)\n",
    "print(cal)"
   ]
  },
  {
   "cell_type": "code",
   "execution_count": 22,
   "id": "6143f823",
   "metadata": {},
   "outputs": [
    {
     "name": "stdout",
     "output_type": "stream",
     "text": [
      "Before swapping: a = 5, b = 3\n",
      "After swapping: a = 3, b = 5\n"
     ]
    }
   ],
   "source": [
    "#program to swap without temp\n",
    "a = 5\n",
    "b = 3\n",
    "print(f\"Before swapping: a = {a}, b = {b}\")\n",
    "a,b = b,a\n",
    "print(f\"After swapping: a = {a}, b = {b}\")"
   ]
  },
  {
   "cell_type": "code",
   "execution_count": 24,
   "id": "0a1fa113",
   "metadata": {},
   "outputs": [
    {
     "name": "stdout",
     "output_type": "stream",
     "text": [
      "Enter a number: 3\n",
      "Positive Number\n"
     ]
    }
   ],
   "source": [
    "#program to check if a number is posittive or not\n",
    "num = float(input(\"Enter a number: \"))\n",
    "if num > 0:\n",
    "    print(\"Positive Number\")\n",
    "elif num == 0:\n",
    "    print(\"Zero\")\n",
    "else:\n",
    "    print(\"Negative Number\")"
   ]
  },
  {
   "cell_type": "code",
   "execution_count": 25,
   "id": "f1b516bb",
   "metadata": {},
   "outputs": [
    {
     "name": "stdout",
     "output_type": "stream",
     "text": [
      "Enter coefficient a: 1\n",
      "Enter coefficient b: 4\n",
      "Enter coefficient c: 8\n",
      "Root 1: -2.0 + 2.0i\n",
      "Root 2: -2.0 - 2.0i\n"
     ]
    }
   ],
   "source": [
    "#Quadratic equation\n",
    "import math\n",
    "\n",
    "a = float(input(\"Enter coefficient a: \"))\n",
    "b = float(input(\"Enter coefficient b: \"))\n",
    "c = float(input(\"Enter coefficient c: \"))\n",
    "\n",
    "discriminant = b**2 - 4*a*c\n",
    "\n",
    "if discriminant > 0:\n",
    "    root1 = (-b + math.sqrt(discriminant))/2*a\n",
    "    root2 = (-b - math.sqrt(discriminant))/2*a\n",
    "    print(f\"Root 1: {root1}\")\n",
    "    print(f\"Root 2: {root2}\")\n",
    "elif discriminant == 0:\n",
    "    root = -b/(2*a)\n",
    "    print(f\"Root: {root}\")\n",
    "else:\n",
    "    real_part = -b/(2*a)\n",
    "    imaginary_part = math.sqrt(abs(discriminant))/(2*a)\n",
    "    print(f\"Root 1: {real_part} + {imaginary_part}i\")\n",
    "    print(f\"Root 2: {real_part} - {imaginary_part}i\")"
   ]
  },
  {
   "cell_type": "code",
   "execution_count": 26,
   "id": "efa547a9",
   "metadata": {},
   "outputs": [
    {
     "name": "stdout",
     "output_type": "stream",
     "text": [
      "Enter a number: 4\n",
      "Even Number\n"
     ]
    }
   ],
   "source": [
    "#number is even or odd\n",
    "num = int(input(\"Enter a number: \"))\n",
    "\n",
    "if num%2 == 0:\n",
    "    print(\"Even Number\")\n",
    "else:\n",
    "    print(\"Odd Number\")"
   ]
  },
  {
   "cell_type": "code",
   "execution_count": 27,
   "id": "1f1409b8",
   "metadata": {},
   "outputs": [
    {
     "name": "stdout",
     "output_type": "stream",
     "text": [
      "Eter a year: 2024\n",
      "2024 is a leap year\n"
     ]
    }
   ],
   "source": [
    "#check leap year\n",
    "year = int(input(\"Eter a year: \"))\n",
    "if(year % 400 == 0) and (year % 100 ==0):\n",
    "    print(\"{0} is a leap year\".format(year))\n",
    "elif(year %4 == 0) and (year % 100 != 0):\n",
    "    print(\"{0} is a leap year\".format(year))\n",
    "else:\n",
    "    print(\"{0} is not a leap year\".format(year))"
   ]
  },
  {
   "cell_type": "code",
   "execution_count": 30,
   "id": "5f8ac11d",
   "metadata": {},
   "outputs": [
    {
     "name": "stdout",
     "output_type": "stream",
     "text": [
      "enter a number: 4\n",
      "4 is not a prime number\n"
     ]
    }
   ],
   "source": [
    "#prime number\n",
    "num = int(input(\"enter a number: \"))\n",
    "\n",
    "flag = False\n",
    "\n",
    "if num == 1:\n",
    "    print(f\"{num} is not a prime number\")\n",
    "elif num > 1:\n",
    "    for i in range(2, num):\n",
    "        if (num%i) == 0:\n",
    "            flag = True\n",
    "            break\n",
    "if flag:\n",
    "    print(f\"{num} is not a prime number\")\n",
    "else:\n",
    "    print(f\"{num} is a prime number\")"
   ]
  },
  {
   "cell_type": "code",
   "execution_count": 35,
   "id": "017c79a3",
   "metadata": {},
   "outputs": [],
   "source": [
    "#prime number within an interval\n",
    "start = 1\n",
    "end = 10\n",
    "\n",
    "for i in range(start, end+1):\n",
    "    if num > 1:\n",
    "        for i in range(2,num):\n",
    "            if (num%i) == 0:\n",
    "                break\n",
    "        else:\n",
    "            print(num)\n",
    "            "
   ]
  },
  {
   "cell_type": "code",
   "execution_count": 43,
   "id": "36e9b420",
   "metadata": {},
   "outputs": [
    {
     "name": "stdout",
     "output_type": "stream",
     "text": [
      "1\n",
      "2\n",
      "3\n",
      "4\n",
      "5\n",
      "6\n",
      "7\n",
      "8\n",
      "9\n",
      "10\n"
     ]
    }
   ],
   "source": [
    "for i in range(1,11):\n",
    "    print(i)"
   ]
  },
  {
   "cell_type": "code",
   "execution_count": 44,
   "id": "eaea4905",
   "metadata": {},
   "outputs": [
    {
     "name": "stdout",
     "output_type": "stream",
     "text": [
      "Enter the table of: 18\n",
      "18 * 1 = 18\n",
      "18 * 2 = 36\n",
      "18 * 3 = 54\n",
      "18 * 4 = 72\n",
      "18 * 5 = 90\n",
      "18 * 6 = 108\n",
      "18 * 7 = 126\n",
      "18 * 8 = 144\n",
      "18 * 9 = 162\n",
      "18 * 10 = 180\n"
     ]
    }
   ],
   "source": [
    "num = int(input(\"Enter the table of: \"))\n",
    "for i in range(1,11):\n",
    "    print(f\"{num} * {i} = {num*i}\")"
   ]
  },
  {
   "cell_type": "code",
   "execution_count": 46,
   "id": "bba92685",
   "metadata": {},
   "outputs": [
    {
     "name": "stdout",
     "output_type": "stream",
     "text": [
      "Enter number of terms in Fibonacci Series: 5\n",
      "0\n",
      "1\n",
      "1\n",
      "2\n",
      "3\n"
     ]
    }
   ],
   "source": [
    "#Fibonacci Sequence\n",
    "#0,1,1,2,3,5,8,13,21,34\n",
    "\n",
    "n = int(input(\"Enter number of terms in Fibonacci Series: \"))\n",
    "count = 0\n",
    "n1,n2 = 0,1\n",
    "\n",
    "if n == 1:\n",
    "    print(n1)\n",
    "else:\n",
    "    while count < n:\n",
    "        print(n1)\n",
    "        temp = n1 + n2\n",
    "        n1 = n2\n",
    "        n2 = temp\n",
    "        count +=1\n",
    "    \n",
    "    "
   ]
  },
  {
   "cell_type": "code",
   "execution_count": 48,
   "id": "27c02f5c",
   "metadata": {},
   "outputs": [
    {
     "name": "stdout",
     "output_type": "stream",
     "text": [
      "Enter the number: 5\n",
      "Factorial of 5 is 120\n"
     ]
    }
   ],
   "source": [
    "#factorial\n",
    "num = int(input(\"Enter the number: \"))\n",
    "factorial = 1\n",
    "if num ==0:\n",
    "    print(\"Factorial of 0 is 1\")\n",
    "else:\n",
    "    for i in range(1,num+1):\n",
    "        factorial = i * factorial\n",
    "    print(f\"Factorial of {num} is {factorial}\")"
   ]
  },
  {
   "cell_type": "code",
   "execution_count": 54,
   "id": "677f4e67",
   "metadata": {},
   "outputs": [
    {
     "name": "stdout",
     "output_type": "stream",
     "text": [
      "Enter a number: 153\n",
      "Armstrong Number\n"
     ]
    }
   ],
   "source": [
    "#Armstrong number\n",
    "num = int(input(\"Enter a number: \"))\n",
    "add = 0\n",
    "temp = num\n",
    "\n",
    "while temp > 0:\n",
    "    cube_digit = temp%10\n",
    "    add += cube_digit**3\n",
    "    temp = temp//10\n",
    "    \n",
    "if add == num:\n",
    "    print(\"Armstrong Number\")\n",
    "else:\n",
    "    print(\"Not an Armstrong Number\")\n",
    "\n"
   ]
  },
  {
   "cell_type": "code",
   "execution_count": 55,
   "id": "ee2d1fc9",
   "metadata": {},
   "outputs": [
    {
     "name": "stdout",
     "output_type": "stream",
     "text": [
      "0\n",
      "1\n",
      "1\n",
      "2\n",
      "3\n",
      "5\n"
     ]
    }
   ],
   "source": [
    "#fibonacci using recursion\n",
    "def rec_fib(n):\n",
    "    if n <= 1:\n",
    "        return n\n",
    "    else:\n",
    "        return(rec_fib(n-1)+rec_fib(n-2))\n",
    "\n",
    "n = 6\n",
    "\n",
    "for i in range(n):\n",
    "    print(rec_fib(i))"
   ]
  },
  {
   "cell_type": "code",
   "execution_count": 56,
   "id": "66605228",
   "metadata": {},
   "outputs": [
    {
     "name": "stdout",
     "output_type": "stream",
     "text": [
      "120\n"
     ]
    }
   ],
   "source": [
    "#Factorial using recursion\n",
    "def rec_fact(n):\n",
    "    if n == 1:\n",
    "        return n\n",
    "    else:\n",
    "        return n*rec_fact(n-1)\n",
    "    \n",
    "print(rec_fact(5))"
   ]
  },
  {
   "cell_type": "code",
   "execution_count": 58,
   "id": "3fbc2911",
   "metadata": {},
   "outputs": [
    {
     "name": "stdout",
     "output_type": "stream",
     "text": [
      "Enter a number: 4\n",
      "1.3862943611198906\n"
     ]
    }
   ],
   "source": [
    "import math\n",
    "num = float(input(\"Enter a number: \"))\n",
    "print(math.log(num)) #natural logarithm (base e)"
   ]
  },
  {
   "cell_type": "code",
   "execution_count": 60,
   "id": "8c2343a3",
   "metadata": {},
   "outputs": [
    {
     "name": "stdout",
     "output_type": "stream",
     "text": [
      "[0, 1, 8, 27]\n"
     ]
    }
   ],
   "source": [
    "print([i**3 for i in range(4)])"
   ]
  },
  {
   "cell_type": "code",
   "execution_count": 63,
   "id": "1e992200",
   "metadata": {},
   "outputs": [
    {
     "name": "stdout",
     "output_type": "stream",
     "text": [
      "30\n"
     ]
    }
   ],
   "source": [
    "#largest number in an array\n",
    "arr = [10,20,30,5]\n",
    "mx = arr[0]\n",
    "for elem in arr:\n",
    "    if elem > mx:\n",
    "        mx = elem\n",
    "print(mx)"
   ]
  },
  {
   "cell_type": "code",
   "execution_count": 66,
   "id": "af07ad14",
   "metadata": {},
   "outputs": [
    {
     "name": "stdout",
     "output_type": "stream",
     "text": [
      "[30, 40, 10, 20]\n"
     ]
    }
   ],
   "source": [
    "#rotated array\n",
    "arr = [10,20,30,40]\n",
    "n = len(arr)\n",
    "d = 2\n",
    "rotated_arr = [0]*n\n",
    "for i in range(n):\n",
    "    rotated_arr[i] = arr[(i+d)%n]\n",
    "print(rotated_arr)"
   ]
  },
  {
   "cell_type": "code",
   "execution_count": 68,
   "id": "8999552f",
   "metadata": {},
   "outputs": [
    {
     "name": "stdout",
     "output_type": "stream",
     "text": [
      "[4, 5, 1, 2, 3]\n"
     ]
    }
   ],
   "source": [
    "#split the array and join it at the end\n",
    "\n",
    "arr = [1,2,3,4,5]\n",
    "k = 3\n",
    "first_part=arr[:k]\n",
    "second_part=arr[k:]\n",
    "new_arr = second_part + first_part\n",
    "print(new_arr)"
   ]
  },
  {
   "cell_type": "code",
   "execution_count": 70,
   "id": "ca30b566",
   "metadata": {},
   "outputs": [
    {
     "name": "stdout",
     "output_type": "stream",
     "text": [
      "True\n",
      "False\n"
     ]
    }
   ],
   "source": [
    "#monotonic arrays\n",
    "\n",
    "def monotonic_arr(arr):\n",
    "    inc = dec = True\n",
    "    for i in range(1,len(arr)):\n",
    "        if arr[i] < arr[i-1]:\n",
    "            inc = False\n",
    "        elif arr[i]>arr[i-1]:\n",
    "            dec = False\n",
    "    return inc or dec\n",
    "\n",
    "arr = [3,2,1]\n",
    "arr1=[1,22,4,6]\n",
    "print(monotonic_arr(arr))\n",
    "print(monotonic_arr(arr1))"
   ]
  },
  {
   "cell_type": "code",
   "execution_count": 76,
   "id": "92d797d5",
   "metadata": {},
   "outputs": [
    {
     "name": "stdout",
     "output_type": "stream",
     "text": [
      "[[2, 4, 6], [6, 10, 10], [14, 17, 9]]\n"
     ]
    }
   ],
   "source": [
    "#add 2 matrices\n",
    "mat1 = [\n",
    "    [1,2,3],\n",
    "    [4,5,6],\n",
    "    [7,8,9]\n",
    "]\n",
    "mat2 = [\n",
    "    [1,2,3],\n",
    "    [2,5,4],\n",
    "    [7,9,0]\n",
    "]\n",
    "\n",
    "for row in range(len(mat1)):\n",
    "    for col in range(len(mat1[0])):\n",
    "        mat1[row][col] += mat2[row][col]\n",
    "    \n",
    "print(mat1)"
   ]
  },
  {
   "cell_type": "code",
   "execution_count": 80,
   "id": "a79316d2",
   "metadata": {},
   "outputs": [
    {
     "name": "stdout",
     "output_type": "stream",
     "text": [
      "[[1, 4], [2, 5], [3, 6]]\n"
     ]
    }
   ],
   "source": [
    "#transpose of a matrix\n",
    "result = [[0 for _ in range(len(mat1))] for _ in range(len(mat1[0]))]\n",
    "mat1 = [\n",
    "    [1,2,3],\n",
    "    [4,5,6]\n",
    "]\n",
    "for i in range(len(mat1)):\n",
    "    for j in range(len(mat1[0])):\n",
    "        result[j][i] = mat1[i][j]\n",
    "print(result)"
   ]
  },
  {
   "cell_type": "code",
   "execution_count": 82,
   "id": "7bf6a83c",
   "metadata": {},
   "outputs": [
    {
     "name": "stdout",
     "output_type": "stream",
     "text": [
      "[2, 4, 6, 8, 10]\n"
     ]
    }
   ],
   "source": [
    "#even\n",
    "even = [num for num in range(1,11) if num%2==0]\n",
    "print(even)"
   ]
  },
  {
   "cell_type": "code",
   "execution_count": 83,
   "id": "c75d69c6",
   "metadata": {},
   "outputs": [
    {
     "name": "stdout",
     "output_type": "stream",
     "text": [
      "[[1, 2, 3], [1], 4, [0, 1]]\n"
     ]
    }
   ],
   "source": [
    "#remove empty lists from a list\n",
    "l = [[1,2,3],[],[1],4,[0,1]]\n",
    "fl = [i for i in l if i]\n",
    "print(fl)"
   ]
  },
  {
   "cell_type": "code",
   "execution_count": 91,
   "id": "63190e64",
   "metadata": {},
   "outputs": [
    {
     "name": "stdout",
     "output_type": "stream",
     "text": [
      "[1]\n"
     ]
    }
   ],
   "source": [
    "arr = [[0]]*1\n",
    "arr[0]=(1)\n",
    "print(arr)"
   ]
  },
  {
   "cell_type": "markdown",
   "id": "2ae56246",
   "metadata": {},
   "source": [
    "# Strings"
   ]
  },
  {
   "cell_type": "code",
   "execution_count": 92,
   "id": "a3080004",
   "metadata": {},
   "outputs": [
    {
     "name": "stdout",
     "output_type": "stream",
     "text": [
      "['banana', 'Cherry', 'Blueberry', 'DragonFruit']\n"
     ]
    }
   ],
   "source": [
    "#program to find words greater than given length\n",
    "words_list = [\"apple\",\"banana\",\"Cherry\",\"Date\",\"Blueberry\",\"DragonFruit\"]\n",
    "k = 5\n",
    "res = []\n",
    "for word in words_list:\n",
    "    if len(word) > 5:\n",
    "        res.append(word)\n",
    "print(res)"
   ]
  },
  {
   "cell_type": "code",
   "execution_count": 93,
   "id": "deb52fd1",
   "metadata": {},
   "outputs": [
    {
     "name": "stdout",
     "output_type": "stream",
     "text": [
      "Atomic Habts!\n"
     ]
    }
   ],
   "source": [
    "#removing the ith character from the string\n",
    "s = \"Atomic Habits!\"\n",
    "k = 10\n",
    "rs = s[:k]+s[k+1:]\n",
    "print(rs)"
   ]
  },
  {
   "cell_type": "code",
   "execution_count": 94,
   "id": "68c72fbf",
   "metadata": {},
   "outputs": [
    {
     "name": "stdout",
     "output_type": "stream",
     "text": [
      "['Best', 'of', 'the', 'Best']\n",
      "Best of the Best\n"
     ]
    }
   ],
   "source": [
    "#split and join a string\n",
    "input_str = \"Best of the Best\"\n",
    "word_lst = input_str.split()\n",
    "print(word_lst)\n",
    "\n",
    "separator = \" \"\n",
    "output_str = separator.join(word_lst)\n",
    "print(output_str)\n"
   ]
  },
  {
   "cell_type": "code",
   "execution_count": 95,
   "id": "4c7b9bb9",
   "metadata": {},
   "outputs": [
    {
     "name": "stdout",
     "output_type": "stream",
     "text": [
      "['first', 'Second']\n"
     ]
    }
   ],
   "source": [
    "#uncommon words from 2 string\n",
    "s1 = \"This is first String\"\n",
    "s2 = \"This is Second String\"\n",
    "w1 = set(s1.split())\n",
    "w2 = set(s2.split())\n",
    "uncommon_words = list(w1.symmetric_difference(w2))\n",
    "print(uncommon_words)\n"
   ]
  },
  {
   "cell_type": "code",
   "execution_count": 103,
   "id": "843fbba4",
   "metadata": {},
   "outputs": [
    {
     "name": "stdout",
     "output_type": "stream",
     "text": [
      "Duplicate Characters:  ['s']\n"
     ]
    }
   ],
   "source": [
    "#find duplicate characters in a string\n",
    "\n",
    "def find_duplicates(s):\n",
    "    chars = {} #Empty dictionary to store characte counts\n",
    "    duplicates = [] # initialize a list to store duplicate characters\n",
    "    \n",
    "    for char in s:\n",
    "        if char in chars:\n",
    "            chars[char] += 1\n",
    "        else:\n",
    "            chars[char] = 1\n",
    "            \n",
    "    for char,count in chars.items():\n",
    "        if count > 1:\n",
    "            duplicates.append(char)\n",
    "    return duplicates\n",
    "\n",
    "\n",
    "\n",
    "\n",
    "duplicates = find_duplicates(\"inputss\")\n",
    "print(\"Duplicate Characters: \", duplicates)"
   ]
  },
  {
   "cell_type": "code",
   "execution_count": 106,
   "id": "e12d1b8d",
   "metadata": {},
   "outputs": [
    {
     "name": "stdout",
     "output_type": "stream",
     "text": [
      "False\n"
     ]
    }
   ],
   "source": [
    "#find special characters in a string\n",
    "import re\n",
    "\n",
    "def chk_spl_char(s):\n",
    "    pattern = r'[!@#$%^&*()_+{}\\[\\]:;<>,.?~\\\\\\/\\'\"\\-=]'\n",
    "    if re.search(pattern,s):\n",
    "        return True\n",
    "    else:\n",
    "        return False\n",
    "print(chk_spl_char(\"Hi H\"))"
   ]
  },
  {
   "cell_type": "code",
   "execution_count": 108,
   "id": "9344db48",
   "metadata": {},
   "outputs": [
    {
     "name": "stdout",
     "output_type": "stream",
     "text": [
      "[10, 20, 30]\n"
     ]
    }
   ],
   "source": [
    "#program to extract unique dictionary values\n",
    "my_dict ={\n",
    "    'a':10,\n",
    "    'b':20,\n",
    "    'c':30,\n",
    "    'd':10,\n",
    "    'e':20    \n",
    "}\n",
    "\n",
    "uniq_val = set()\n",
    "for i in my_dict.values():\n",
    "    uniq_val.add(i)\n",
    "l = list(uniq_val)    \n",
    "print(l)"
   ]
  },
  {
   "cell_type": "code",
   "execution_count": 111,
   "id": "66fcc040",
   "metadata": {},
   "outputs": [
    {
     "name": "stdout",
     "output_type": "stream",
     "text": [
      "90\n"
     ]
    }
   ],
   "source": [
    "my_dict ={\n",
    "    'a':10,\n",
    "    'b':20,\n",
    "    'c':30,\n",
    "    'd':10,\n",
    "    'e':20    \n",
    "}\n",
    "total = 0\n",
    "for i in my_dict.values():\n",
    "    total += i\n",
    "print(total)"
   ]
  },
  {
   "cell_type": "code",
   "execution_count": 112,
   "id": "38d09650",
   "metadata": {},
   "outputs": [
    {
     "name": "stdout",
     "output_type": "stream",
     "text": [
      "{'a': 1, 'b': 2, 'c': 3, 'd': 4}\n"
     ]
    }
   ],
   "source": [
    "#Merging 2 Dictionaries using update\n",
    "d1 = {'a':1,'b':2}\n",
    "d2 = {'c':3,'d':4}\n",
    "d1.update(d2)\n",
    "print(d1)"
   ]
  },
  {
   "cell_type": "code",
   "execution_count": 114,
   "id": "a9f6e81b",
   "metadata": {},
   "outputs": [
    {
     "name": "stdout",
     "output_type": "stream",
     "text": [
      "{'a': 1, 'b': 2, 'c': 3, 'd': 4}\n"
     ]
    }
   ],
   "source": [
    "#Merging dictionaries using dictionary unpacking\n",
    "merged_dict = {**d1, **d2}\n",
    "print(merged_dict)"
   ]
  },
  {
   "cell_type": "code",
   "execution_count": 115,
   "id": "09fa8d80",
   "metadata": {},
   "outputs": [
    {
     "name": "stdout",
     "output_type": "stream",
     "text": [
      "{'a': 1, 'b': 2, 'c': 2, 'd': 5}\n"
     ]
    }
   ],
   "source": [
    "#convert Key-values list to a flat dictionary\n",
    "key_value_list = [('a',1),('b',2),('c',2),('d',5)]\n",
    "flat_dict = {}\n",
    "for key, value in key_value_list:\n",
    "    flat_dict[key] = value\n",
    "print(flat_dict)"
   ]
  },
  {
   "cell_type": "code",
   "execution_count": 119,
   "id": "963af0a9",
   "metadata": {},
   "outputs": [
    {
     "name": "stdout",
     "output_type": "stream",
     "text": [
      "OrderedDict([('e', 1), ('b', 2), ('c', 3), ('d', 4)])\n"
     ]
    }
   ],
   "source": [
    "#program to insert at the beginning in ordered dict\n",
    "from collections import OrderedDict\n",
    "\n",
    "ordered_dict = OrderedDict([('b',2),('c',3),('d',4)])\n",
    "new_item = ('e',1)\n",
    "\n",
    "new_ord_dict = OrderedDict([new_item])\n",
    "new_ord_dict.update(ordered_dict) #Merge\n",
    "print(new_ord_dict)"
   ]
  },
  {
   "cell_type": "code",
   "execution_count": 123,
   "id": "d031d512",
   "metadata": {},
   "outputs": [
    {
     "name": "stdout",
     "output_type": "stream",
     "text": [
      "The order of characters matches the reference string\n"
     ]
    }
   ],
   "source": [
    "#program to check order of character in string using OrderedDict()\n",
    "from collections import OrderedDict\n",
    "\n",
    "def check_order(string, ref):\n",
    "    string_dict = OrderedDict.fromkeys(string)\n",
    "    reference_dict = OrderedDict.fromkeys(ref)\n",
    "    return string_dict == reference_dict\n",
    "\n",
    "s1 = \"hello world\"\n",
    "s2 = \"helo world\"\n",
    "\n",
    "if check_order(s1, s2):\n",
    "    print(\"The order of characters matches the reference string\")\n",
    "else:\n",
    "    print(\"The order of characters does not match the reference string\")"
   ]
  },
  {
   "cell_type": "code",
   "execution_count": 125,
   "id": "72597f0f",
   "metadata": {},
   "outputs": [
    {
     "name": "stdout",
     "output_type": "stream",
     "text": [
      "apple: 3\n",
      "banana: 1\n",
      "cherry: 2\n",
      "dates: 8\n"
     ]
    }
   ],
   "source": [
    "#program to sort Python Dictionaries by Key or value\n",
    "sample = {'apple': 3, 'cherry': 2, 'banana': 1, 'dates': 8}\n",
    "sorted_by_keys = dict(sorted(sample.items()))\n",
    "\n",
    "for key,value in sorted_by_keys.items():\n",
    "    print(f\"{key}: {value}\")"
   ]
  },
  {
   "cell_type": "code",
   "execution_count": 133,
   "id": "b2431be9",
   "metadata": {},
   "outputs": [
    {
     "name": "stdout",
     "output_type": "stream",
     "text": [
      "<__main__.Node object at 0x111e89b10>\n"
     ]
    }
   ],
   "source": [
    "class Node:\n",
    "    def __init__(self, data1, next1 = None):\n",
    "        self.data = data1\n",
    "        self.next = next1\n",
    "        \n",
    "x = Node(2)\n",
    "y = x\n",
    "print(y)"
   ]
  },
  {
   "cell_type": "code",
   "execution_count": 136,
   "id": "d960d92a",
   "metadata": {},
   "outputs": [
    {
     "name": "stdout",
     "output_type": "stream",
     "text": [
      "5\n"
     ]
    }
   ],
   "source": [
    "class Node:\n",
    "    def __init__(self,data1, next1=None):\n",
    "        self.data =data1\n",
    "        self.next = next1\n",
    "        \n",
    "def removes_head(head):\n",
    "    if head is None:\n",
    "        return None\n",
    "    head = head.next\n",
    "    return head\n",
    "\n",
    "def print_ll(head):\n",
    "    while head is not None:\n",
    "        print(head.data, end = \" \")\n",
    "        head = head.next\n",
    "        \n",
    "if __name__ == \"__main__\":\n",
    "    arr = [2,5,7,8]\n",
    "    head = Node(arr[0])\n",
    "    head.next = Node(arr[1])\n",
    "    head.next.next = Node(arr[2])\n",
    "    head.next.next.next = Node(arr[3])\n",
    "    \n",
    "    head = removes_head(head)\n",
    "    print(head)"
   ]
  },
  {
   "cell_type": "code",
   "execution_count": 137,
   "id": "4d52b64f",
   "metadata": {},
   "outputs": [
    {
     "name": "stdout",
     "output_type": "stream",
     "text": [
      "2 4 6 "
     ]
    }
   ],
   "source": [
    "class Node:\n",
    "    def __init__(self,data,next_node=None):\n",
    "        self.data = data\n",
    "        self.next = next_node\n",
    "        \n",
    "def delete_tail(head):\n",
    "    if head is None or head.next is None:\n",
    "        return None\n",
    "    \n",
    "    temp = head\n",
    "    \n",
    "    while temp.next.next is not None:\n",
    "        temp = temp.next\n",
    "        \n",
    "    temp.next = None\n",
    "    \n",
    "    return head\n",
    "def print_ll(head):\n",
    "    while head is not None:\n",
    "        print(head.data, end = \" \")\n",
    "        head = head.next\n",
    "\n",
    "if __name__ == \"__main__\":\n",
    "    arr = [2,4,6,7]\n",
    "    head = Node(arr[0])\n",
    "    head.next = Node(arr[1])\n",
    "    head.next.next = Node(arr[2])\n",
    "    head.next.next.next = Node(arr[3])\n",
    "    \n",
    "    head = delete_tail(head)\n",
    "    \n",
    "    print_ll(head)"
   ]
  },
  {
   "cell_type": "markdown",
   "id": "ea7d545e",
   "metadata": {},
   "source": [
    "# Linked List"
   ]
  },
  {
   "cell_type": "code",
   "execution_count": 138,
   "id": "9215f258",
   "metadata": {},
   "outputs": [],
   "source": [
    "#creating a class for the node\n",
    "class Node:\n",
    "    def __init__(self,data):\n",
    "        self.data = data\n",
    "        self.next = None"
   ]
  },
  {
   "cell_type": "code",
   "execution_count": 177,
   "id": "c1a824cd",
   "metadata": {},
   "outputs": [],
   "source": [
    "#creating Singly Linked list class\n",
    "\n",
    "class SinglyLinkedList:\n",
    "    def __init__(self):\n",
    "        self.head = None\n",
    "        \n",
    "    def insert_at_beginning(self,data):\n",
    "        new_node = Node(data)\n",
    "        new_node.next = self.head\n",
    "        self.head = new_node\n",
    "        \n",
    "    def insert_at_end(self,data):\n",
    "        new_node = Node(data)\n",
    "        if not self.head:\n",
    "            self.head = new_node\n",
    "            return\n",
    "        current = self.head\n",
    "        while current.next is not None:\n",
    "            current = current.next\n",
    "        current.next = new_node\n",
    "        \n",
    "        \n",
    "    def display(self):\n",
    "        if not self.head:\n",
    "            print(\"Linked List is empty\")\n",
    "            return\n",
    "        current = self.head\n",
    "        while current:\n",
    "            print(current.data, end = \" -> \")\n",
    "            current = current.next\n",
    "        print(\"None\")"
   ]
  },
  {
   "cell_type": "code",
   "execution_count": 178,
   "id": "a27143f7",
   "metadata": {},
   "outputs": [],
   "source": [
    "#create a singly LL\n",
    "sll = SinglyLinkedList()"
   ]
  },
  {
   "cell_type": "code",
   "execution_count": 171,
   "id": "e42c96dc",
   "metadata": {},
   "outputs": [],
   "source": [
    "sll.insert_at_beginning(3)\n",
    "sll.insert_at_beginning(5)\n",
    "sll.insert_at_beginning(6)"
   ]
  },
  {
   "cell_type": "code",
   "execution_count": 176,
   "id": "7120fc28",
   "metadata": {},
   "outputs": [
    {
     "name": "stdout",
     "output_type": "stream",
     "text": [
      "Linked List is empty\n"
     ]
    }
   ],
   "source": [
    "sll.display()"
   ]
  },
  {
   "cell_type": "raw",
   "id": "64d52500",
   "metadata": {},
   "source": [
    "sll.insert_at_end(1)\n",
    "sll.insert_at_end(2)\n",
    "sll.insert_at_end(3)"
   ]
  },
  {
   "cell_type": "code",
   "execution_count": 179,
   "id": "283b6455",
   "metadata": {},
   "outputs": [
    {
     "name": "stdout",
     "output_type": "stream",
     "text": [
      "Linked List is empty\n"
     ]
    }
   ],
   "source": [
    "sll.display()"
   ]
  },
  {
   "cell_type": "code",
   "execution_count": null,
   "id": "7d2d04e4",
   "metadata": {},
   "outputs": [],
   "source": []
  },
  {
   "cell_type": "code",
   "execution_count": null,
   "id": "eb7d10c5",
   "metadata": {},
   "outputs": [],
   "source": []
  },
  {
   "cell_type": "code",
   "execution_count": 181,
   "id": "6d54af2f",
   "metadata": {},
   "outputs": [
    {
     "name": "stdout",
     "output_type": "stream",
     "text": [
      "1\n",
      "None\n"
     ]
    }
   ],
   "source": [
    "class Node:\n",
    "    def __init__(self,data):\n",
    "        self.data = data\n",
    "        self.next = None\n",
    "\n",
    "n1 = Node(1)\n",
    "print(n1.data)\n",
    "print(n1.next)"
   ]
  },
  {
   "cell_type": "code",
   "execution_count": 183,
   "id": "47e4f592",
   "metadata": {},
   "outputs": [],
   "source": [
    "class Singly_ll:\n",
    "    def __init__(self):\n",
    "        self.head = None\n",
    "        "
   ]
  },
  {
   "cell_type": "code",
   "execution_count": 185,
   "id": "db1834b2",
   "metadata": {},
   "outputs": [],
   "source": [
    "sll = Singly_ll() #sll.head = None"
   ]
  },
  {
   "cell_type": "code",
   "execution_count": 192,
   "id": "df77c68c",
   "metadata": {},
   "outputs": [
    {
     "name": "stdout",
     "output_type": "stream",
     "text": [
      "2 -> 5 -> 6 -> 7 -> "
     ]
    }
   ],
   "source": [
    "class Node:\n",
    "    def __init__(self,data):\n",
    "        self.data = data\n",
    "        self.next = None\n",
    "class Singly_ll:\n",
    "    def __init__(self):\n",
    "        self.head = None\n",
    "    \n",
    "    def traversal(self):\n",
    "        if self.head is None:\n",
    "            print(\"Singly Linked List is Empty\")\n",
    "        else:\n",
    "            a = self.head\n",
    "            while a is not None:\n",
    "                print(a.data, end=\" -> \")\n",
    "                a = a.next\n",
    "    def insert_at_start(self,data):\n",
    "        new_node = Node(data)\n",
    "        new_node.next = self.head\n",
    "        self.head = new_node\n",
    "                \n",
    "sll = Singly_ll()\n",
    "\n",
    "n1 = Node(5)\n",
    "sll.head = n1\n",
    "n2 = Node(6)\n",
    "n1.next = n2\n",
    "n3 = Node(7)\n",
    "n2.next = n3\n",
    "                \n",
    "\n",
    "sll.insert_at_start(2)\n",
    "sll.traversal()"
   ]
  },
  {
   "cell_type": "code",
   "execution_count": 193,
   "id": "e9e91feb",
   "metadata": {},
   "outputs": [],
   "source": [
    "class Node:\n",
    "    def __init__(self,data):\n",
    "        self.data = data\n",
    "        self.next = None\n",
    "class Singly_ll:\n",
    "    def __init__(self):\n",
    "        self.head = None\n",
    "    \n",
    "    def traversal(self):\n",
    "        if self.head is None:\n",
    "            print(\"Singly Linked List is Empty\")\n",
    "        else:\n",
    "            a = self.head\n",
    "            while a is not None:\n",
    "                print(a.data, end=\" -> \")\n",
    "                a = a.next\n",
    "    def insert_at_start(self,data):\n",
    "        new_node = Node(data)\n",
    "        new_node.next = self.head\n",
    "        self.head = new_node\n",
    "        \n",
    "    def insert_at_end(self, data):\n",
    "        new_node = Node(data)\n",
    "        a = self.head\n",
    "        while a.next is not None:\n",
    "            a = a.next\n",
    "        a.next = new_node\n",
    "                \n",
    "sll = Singly_ll()"
   ]
  },
  {
   "cell_type": "code",
   "execution_count": 194,
   "id": "a6f15d9c",
   "metadata": {},
   "outputs": [
    {
     "name": "stdout",
     "output_type": "stream",
     "text": [
      "5 -> 6 -> 7 -> 444 -> "
     ]
    }
   ],
   "source": [
    "n1 = Node(5)\n",
    "sll.head = n1\n",
    "n2 = Node(6)\n",
    "n1.next = n2\n",
    "n3 = Node(7)\n",
    "n2.next = n3\n",
    "                \n",
    "\n",
    "sll.insert_at_end(444)\n",
    "sll.traversal()"
   ]
  },
  {
   "cell_type": "code",
   "execution_count": 198,
   "id": "4293b3ee",
   "metadata": {},
   "outputs": [],
   "source": [
    "s = \" \"\n",
    "s1 = \"a\"\n",
    "s2 = \"b\"\n",
    "s += s1\n",
    "s += s2"
   ]
  },
  {
   "cell_type": "code",
   "execution_count": null,
   "id": "f383172c",
   "metadata": {},
   "outputs": [],
   "source": []
  },
  {
   "cell_type": "code",
   "execution_count": 199,
   "id": "681cff88",
   "metadata": {},
   "outputs": [
    {
     "data": {
      "text/plain": [
       "' ab'"
      ]
     },
     "execution_count": 199,
     "metadata": {},
     "output_type": "execute_result"
    }
   ],
   "source": [
    "s"
   ]
  },
  {
   "cell_type": "code",
   "execution_count": 200,
   "id": "c909277a",
   "metadata": {},
   "outputs": [
    {
     "data": {
      "text/plain": [
       "'ABCABC'"
      ]
     },
     "execution_count": 200,
     "metadata": {},
     "output_type": "execute_result"
    }
   ],
   "source": [
    "string = \"ABCABC\"\n",
    "substr = \"ABC\"\n",
    "if string == substr * (len(string) // len(substr))\n"
   ]
  },
  {
   "cell_type": "code",
   "execution_count": 210,
   "id": "60fa002d",
   "metadata": {},
   "outputs": [],
   "source": [
    "#brute force to find gcd of strings\n",
    "\n",
    "def gcdofstr(str1,str2):\n",
    "    if len(str1) < len(str2):\n",
    "        str1,str2 = str2,str1\n",
    "    def is_substr(substr,str1):\n",
    "        return str1 == substr * (len(str1)//len(substr))\n",
    "    res = \"\"\n",
    "    for i in range(1,len(str2)+1):\n",
    "        subs = str2[:i]\n",
    "        if is_substr(subs,str1):\n",
    "            res = subs\n",
    "    return res\n",
    "\n",
    "str1 = \"ABCABC\"\n",
    "str2 = \"ABC\""
   ]
  },
  {
   "cell_type": "code",
   "execution_count": 211,
   "id": "c147c375",
   "metadata": {},
   "outputs": [
    {
     "data": {
      "text/plain": [
       "'ABC'"
      ]
     },
     "execution_count": 211,
     "metadata": {},
     "output_type": "execute_result"
    }
   ],
   "source": [
    "gcdofstr(str1,str2)"
   ]
  },
  {
   "cell_type": "code",
   "execution_count": 242,
   "id": "b4a3a5e3",
   "metadata": {},
   "outputs": [
    {
     "name": "stdout",
     "output_type": "stream",
     "text": [
      "3 5 7  \n",
      "10 3 0 5 7 100 \n",
      "length = 5\n",
      "\n",
      "3 0 5 7 100 "
     ]
    }
   ],
   "source": [
    "#LL\n",
    "class ListNode:\n",
    "    def __init__(self,data = 0, next = None):\n",
    "        self.data = data\n",
    "        self.next = next\n",
    "        \n",
    "    \n",
    "class SinglyLL:\n",
    "    def __init__(self):\n",
    "        self.head = None\n",
    "        \n",
    "    def traversal(self):\n",
    "        if self.head is None:\n",
    "            print(\"Singly Linked List is empty\")\n",
    "        else:\n",
    "            a = self.head\n",
    "            while a is not None:\n",
    "                print(a.data,end = \" \")\n",
    "                a = a.next\n",
    "                \n",
    "    def insert_at_beginning(self,data):\n",
    "        new_node = ListNode(data)\n",
    "        new_node.next = self.head\n",
    "        self.head = new_node\n",
    "        \n",
    "    def insert_at_end(self,data):\n",
    "        new_node = ListNode(data)\n",
    "        a = self.head\n",
    "        while a.next is not None:\n",
    "            a = a.next\n",
    "        a.next = new_node\n",
    "        \n",
    "    def insert_at_pos(self,data,pos):\n",
    "        new_node = ListNode(data)\n",
    "        a = self.head\n",
    "        for i in range(1,pos-1):\n",
    "            a = a.next\n",
    "        new_node.next = a.next\n",
    "        a.next = new_node\n",
    "        \n",
    "    def del_at_start(self):\n",
    "        a =self.head\n",
    "        self.head = a.next\n",
    "        a.next = None\n",
    "    def del_at_end(self):\n",
    "        \n",
    "        \n",
    "    def length(self):\n",
    "        count = 0\n",
    "        a = self.head\n",
    "        while a is not None:\n",
    "            count+=1\n",
    "            a = a.next\n",
    "        return count\n",
    "sll = SinglyLL()\n",
    "sll.head = n1\n",
    "n1 = ListNode(3)\n",
    "n2 = ListNode(5)\n",
    "n1.next = n2\n",
    "n3 = ListNode(7)\n",
    "n2.next = n3\n",
    "sll.traversal()\n",
    "sll.insert_at_beginning(10)\n",
    "\n",
    "sll.insert_at_end(100)\n",
    "sll.insert_at_pos(0,3)\n",
    "print(\" \")\n",
    "\n",
    "sll.traversal()\n",
    "sll.del_at_start()\n",
    "print(\"\")\n",
    "print(f'length = {sll.length()}')\n",
    "print(\"\")\n",
    "sll.traversal()"
   ]
  },
  {
   "cell_type": "code",
   "execution_count": null,
   "id": "e01c055d",
   "metadata": {},
   "outputs": [],
   "source": [
    "class Node:\n",
    "    "
   ]
  }
 ],
 "metadata": {
  "kernelspec": {
   "display_name": "Python 3 (ipykernel)",
   "language": "python",
   "name": "python3"
  },
  "language_info": {
   "codemirror_mode": {
    "name": "ipython",
    "version": 3
   },
   "file_extension": ".py",
   "mimetype": "text/x-python",
   "name": "python",
   "nbconvert_exporter": "python",
   "pygments_lexer": "ipython3",
   "version": "3.11.5"
  }
 },
 "nbformat": 4,
 "nbformat_minor": 5
}
